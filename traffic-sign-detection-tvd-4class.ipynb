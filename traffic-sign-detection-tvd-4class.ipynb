{
 "cells": [
  {
   "cell_type": "code",
   "execution_count": 1,
   "id": "822e0a78",
   "metadata": {
    "_cell_guid": "b1076dfc-b9ad-4769-8c92-a6c4dae69d19",
    "_uuid": "8f2839f25d086af736a60e9eeb907d3b93b6e0e5",
    "execution": {
     "iopub.execute_input": "2023-10-07T05:00:53.783337Z",
     "iopub.status.busy": "2023-10-07T05:00:53.782898Z",
     "iopub.status.idle": "2023-10-07T05:00:54.678646Z",
     "shell.execute_reply": "2023-10-07T05:00:54.677209Z"
    },
    "papermill": {
     "duration": 0.905419,
     "end_time": "2023-10-07T05:00:54.681364",
     "exception": false,
     "start_time": "2023-10-07T05:00:53.775945",
     "status": "completed"
    },
    "tags": []
   },
   "outputs": [],
   "source": [
    "# This Python 3 environment comes with many helpful analytics libraries installed\n",
    "# It is defined by the kaggle/python Docker image: https://github.com/kaggle/docker-python\n",
    "# For example, here's several helpful packages to load\n",
    "\n",
    "import numpy as np # linear algebra\n",
    "import pandas as pd # data processing, CSV file I/O (e.g. pd.read_csv)\n",
    "\n",
    "# Input data files are available in the read-only \"../input/\" directory\n",
    "# For example, running this (by clicking run or pressing Shift+Enter) will list all files under the input directory\n",
    "\n",
    "import os\n",
    "# for dirname, _, filenames in os.walk('/kaggle/input'):\n",
    "#     for filename in filenames:\n",
    "#         print(os.path.join(dirname, filename))\n",
    "\n",
    "# You can write up to 20GB to the current directory (/kaggle/working/) that gets preserved as output when you create a version using \"Save & Run All\" \n",
    "# You can also write temporary files to /kaggle/temp/, but they won't be saved outside of the current session"
   ]
  },
  {
   "cell_type": "code",
   "execution_count": 2,
   "id": "06f720e2",
   "metadata": {
    "execution": {
     "iopub.execute_input": "2023-10-07T05:00:54.693488Z",
     "iopub.status.busy": "2023-10-07T05:00:54.692991Z",
     "iopub.status.idle": "2023-10-07T05:00:54.719628Z",
     "shell.execute_reply": "2023-10-07T05:00:54.718178Z"
    },
    "papermill": {
     "duration": 0.035583,
     "end_time": "2023-10-07T05:00:54.722377",
     "exception": false,
     "start_time": "2023-10-07T05:00:54.686794",
     "status": "completed"
    },
    "tags": []
   },
   "outputs": [],
   "source": [
    "import os\n",
    "import yaml\n"
   ]
  },
  {
   "cell_type": "code",
   "execution_count": null,
   "id": "df9283f3",
   "metadata": {
    "papermill": {
     "duration": 0.004365,
     "end_time": "2023-10-07T05:00:54.731553",
     "exception": false,
     "start_time": "2023-10-07T05:00:54.727188",
     "status": "completed"
    },
    "tags": []
   },
   "outputs": [],
   "source": []
  },
  {
   "cell_type": "code",
   "execution_count": 3,
   "id": "a37cb3af",
   "metadata": {
    "execution": {
     "iopub.execute_input": "2023-10-07T05:00:54.742493Z",
     "iopub.status.busy": "2023-10-07T05:00:54.742113Z",
     "iopub.status.idle": "2023-10-07T05:00:54.747385Z",
     "shell.execute_reply": "2023-10-07T05:00:54.746442Z"
    },
    "papermill": {
     "duration": 0.013366,
     "end_time": "2023-10-07T05:00:54.749504",
     "exception": false,
     "start_time": "2023-10-07T05:00:54.736138",
     "status": "completed"
    },
    "tags": []
   },
   "outputs": [],
   "source": [
    "# Tạo ổ nhớ tạm\n",
    "os.makedirs(\"/kaggle/temp\",exist_ok=True)"
   ]
  },
  {
   "cell_type": "code",
   "execution_count": 4,
   "id": "bc04c6ba",
   "metadata": {
    "execution": {
     "iopub.execute_input": "2023-10-07T05:00:54.761946Z",
     "iopub.status.busy": "2023-10-07T05:00:54.760555Z",
     "iopub.status.idle": "2023-10-07T05:00:54.772530Z",
     "shell.execute_reply": "2023-10-07T05:00:54.771176Z"
    },
    "papermill": {
     "duration": 0.020835,
     "end_time": "2023-10-07T05:00:54.775058",
     "exception": false,
     "start_time": "2023-10-07T05:00:54.754223",
     "status": "completed"
    },
    "tags": []
   },
   "outputs": [
    {
     "name": "stdout",
     "output_type": "stream",
     "text": [
      "/kaggle/input/traffic-signs-dataset-mapillary-and-dfg\n"
     ]
    }
   ],
   "source": [
    "%cd '/kaggle/input/traffic-signs-dataset-mapillary-and-dfg'"
   ]
  },
  {
   "cell_type": "code",
   "execution_count": 5,
   "id": "566b1667",
   "metadata": {
    "execution": {
     "iopub.execute_input": "2023-10-07T05:00:54.786365Z",
     "iopub.status.busy": "2023-10-07T05:00:54.786005Z",
     "iopub.status.idle": "2023-10-07T05:00:55.907579Z",
     "shell.execute_reply": "2023-10-07T05:00:55.906292Z"
    },
    "papermill": {
     "duration": 1.130131,
     "end_time": "2023-10-07T05:00:55.909928",
     "exception": false,
     "start_time": "2023-10-07T05:00:54.779797",
     "status": "completed"
    },
    "tags": []
   },
   "outputs": [
    {
     "name": "stdout",
     "output_type": "stream",
     "text": [
      " classes.json   crops   dataset.yaml   hist.png   images  'txts (YOLO)'   xmls\r\n"
     ]
    }
   ],
   "source": [
    "!ls"
   ]
  },
  {
   "cell_type": "code",
   "execution_count": 6,
   "id": "db806311",
   "metadata": {
    "execution": {
     "iopub.execute_input": "2023-10-07T05:00:55.922059Z",
     "iopub.status.busy": "2023-10-07T05:00:55.920963Z",
     "iopub.status.idle": "2023-10-07T05:00:55.937390Z",
     "shell.execute_reply": "2023-10-07T05:00:55.936206Z"
    },
    "papermill": {
     "duration": 0.025327,
     "end_time": "2023-10-07T05:00:55.939997",
     "exception": false,
     "start_time": "2023-10-07T05:00:55.914670",
     "status": "completed"
    },
    "tags": []
   },
   "outputs": [],
   "source": [
    "with open('dataset.yaml', 'r') as file:\n",
    "    dataYaml = yaml.safe_load(file)"
   ]
  },
  {
   "cell_type": "code",
   "execution_count": 7,
   "id": "080bd448",
   "metadata": {
    "execution": {
     "iopub.execute_input": "2023-10-07T05:00:55.951241Z",
     "iopub.status.busy": "2023-10-07T05:00:55.950896Z",
     "iopub.status.idle": "2023-10-07T05:00:55.962363Z",
     "shell.execute_reply": "2023-10-07T05:00:55.961208Z"
    },
    "papermill": {
     "duration": 0.01994,
     "end_time": "2023-10-07T05:00:55.964783",
     "exception": false,
     "start_time": "2023-10-07T05:00:55.944843",
     "status": "completed"
    },
    "tags": []
   },
   "outputs": [
    {
     "data": {
      "text/plain": [
       "{0: 0,\n",
       " 1: 0,\n",
       " 2: 1,\n",
       " 3: 1,\n",
       " 4: 0,\n",
       " 5: 1,\n",
       " 6: 0,\n",
       " 7: 1,\n",
       " 8: 0,\n",
       " 9: 1,\n",
       " 10: 1,\n",
       " 11: 2,\n",
       " 12: 2,\n",
       " 13: 1,\n",
       " 14: 0,\n",
       " 15: 0,\n",
       " 16: 0,\n",
       " 17: 1,\n",
       " 18: 1,\n",
       " 19: 1,\n",
       " 20: 1,\n",
       " 21: 0,\n",
       " 22: 0,\n",
       " 23: 0,\n",
       " 24: 0,\n",
       " 25: 0,\n",
       " 26: 0,\n",
       " 27: 0,\n",
       " 28: 0,\n",
       " 29: 0,\n",
       " 30: 0,\n",
       " 31: 0,\n",
       " 32: 3,\n",
       " 33: 0,\n",
       " 34: 0,\n",
       " 35: 0,\n",
       " 36: 1,\n",
       " 37: 1,\n",
       " 38: 1,\n",
       " 39: 0,\n",
       " 40: 1,\n",
       " 41: 1,\n",
       " 42: 1,\n",
       " 43: 1,\n",
       " 44: 2,\n",
       " 45: 0,\n",
       " 46: 1,\n",
       " 47: 3,\n",
       " 48: 0,\n",
       " 49: 0,\n",
       " 50: 0,\n",
       " 51: 3,\n",
       " 52: 2,\n",
       " 53: 0,\n",
       " 54: 0,\n",
       " 55: 0,\n",
       " 56: 1,\n",
       " 57: 1,\n",
       " 58: 1,\n",
       " 59: 2,\n",
       " 60: 0,\n",
       " 61: 1,\n",
       " 62: 1,\n",
       " 63: 1,\n",
       " 64: 0,\n",
       " 65: 1,\n",
       " 66: 1,\n",
       " 67: 0,\n",
       " 68: 1,\n",
       " 69: 1,\n",
       " 70: 1,\n",
       " 71: 1,\n",
       " 72: 1,\n",
       " 73: 1,\n",
       " 74: 1,\n",
       " 75: 2}"
      ]
     },
     "execution_count": 7,
     "metadata": {},
     "output_type": "execute_result"
    }
   ],
   "source": [
    "dic = {}\n",
    "dict2 = {\"regulatory\":0, \"warning\":1, \"information\":2, \"complementary\":3}\n",
    "for i in range(dataYaml['nc']):\n",
    "    cla = dataYaml['names'][i].split('--')[0]\n",
    "    dic[i] = dict2[cla]\n",
    "dic"
   ]
  },
  {
   "cell_type": "code",
   "execution_count": null,
   "id": "36cd48d2",
   "metadata": {
    "execution": {
     "iopub.execute_input": "2023-10-07T04:06:01.887267Z",
     "iopub.status.busy": "2023-10-07T04:06:01.886903Z",
     "iopub.status.idle": "2023-10-07T04:06:01.891758Z",
     "shell.execute_reply": "2023-10-07T04:06:01.890971Z",
     "shell.execute_reply.started": "2023-10-07T04:06:01.887240Z"
    },
    "papermill": {
     "duration": 0.004548,
     "end_time": "2023-10-07T05:00:55.974309",
     "exception": false,
     "start_time": "2023-10-07T05:00:55.969761",
     "status": "completed"
    },
    "tags": []
   },
   "outputs": [],
   "source": []
  },
  {
   "cell_type": "code",
   "execution_count": null,
   "id": "ee87b1ac",
   "metadata": {
    "execution": {
     "iopub.execute_input": "2023-10-07T04:06:32.330591Z",
     "iopub.status.busy": "2023-10-07T04:06:32.330196Z",
     "iopub.status.idle": "2023-10-07T04:06:32.338400Z",
     "shell.execute_reply": "2023-10-07T04:06:32.336889Z",
     "shell.execute_reply.started": "2023-10-07T04:06:32.330559Z"
    },
    "papermill": {
     "duration": 0.004565,
     "end_time": "2023-10-07T05:00:55.983686",
     "exception": false,
     "start_time": "2023-10-07T05:00:55.979121",
     "status": "completed"
    },
    "tags": []
   },
   "outputs": [],
   "source": []
  },
  {
   "cell_type": "code",
   "execution_count": 8,
   "id": "70bfc560",
   "metadata": {
    "execution": {
     "iopub.execute_input": "2023-10-07T05:00:55.995625Z",
     "iopub.status.busy": "2023-10-07T05:00:55.995025Z",
     "iopub.status.idle": "2023-10-07T05:00:55.999383Z",
     "shell.execute_reply": "2023-10-07T05:00:55.998540Z"
    },
    "papermill": {
     "duration": 0.012699,
     "end_time": "2023-10-07T05:00:56.001471",
     "exception": false,
     "start_time": "2023-10-07T05:00:55.988772",
     "status": "completed"
    },
    "tags": []
   },
   "outputs": [],
   "source": [
    "# Tạo ổ nhớ tạm\n",
    "os.makedirs(\"/kaggle/working/txts4C\",exist_ok=True)"
   ]
  },
  {
   "cell_type": "code",
   "execution_count": null,
   "id": "448369fc",
   "metadata": {
    "execution": {
     "iopub.execute_input": "2023-10-07T04:24:08.103756Z",
     "iopub.status.busy": "2023-10-07T04:24:08.103376Z",
     "iopub.status.idle": "2023-10-07T04:24:08.111223Z",
     "shell.execute_reply": "2023-10-07T04:24:08.110266Z",
     "shell.execute_reply.started": "2023-10-07T04:24:08.103723Z"
    },
    "papermill": {
     "duration": 0.004542,
     "end_time": "2023-10-07T05:00:56.010861",
     "exception": false,
     "start_time": "2023-10-07T05:00:56.006319",
     "status": "completed"
    },
    "tags": []
   },
   "outputs": [],
   "source": []
  },
  {
   "cell_type": "code",
   "execution_count": null,
   "id": "706a8277",
   "metadata": {
    "execution": {
     "iopub.execute_input": "2023-10-07T04:35:58.996625Z",
     "iopub.status.busy": "2023-10-07T04:35:58.996211Z",
     "iopub.status.idle": "2023-10-07T04:35:59.003911Z",
     "shell.execute_reply": "2023-10-07T04:35:59.003104Z",
     "shell.execute_reply.started": "2023-10-07T04:35:58.996587Z"
    },
    "papermill": {
     "duration": 0.004606,
     "end_time": "2023-10-07T05:00:56.020736",
     "exception": false,
     "start_time": "2023-10-07T05:00:56.016130",
     "status": "completed"
    },
    "tags": []
   },
   "outputs": [],
   "source": []
  },
  {
   "cell_type": "code",
   "execution_count": null,
   "id": "41d62e68",
   "metadata": {
    "papermill": {
     "duration": 0.004524,
     "end_time": "2023-10-07T05:00:56.030118",
     "exception": false,
     "start_time": "2023-10-07T05:00:56.025594",
     "status": "completed"
    },
    "tags": []
   },
   "outputs": [],
   "source": []
  },
  {
   "cell_type": "code",
   "execution_count": 9,
   "id": "a60b6568",
   "metadata": {
    "execution": {
     "iopub.execute_input": "2023-10-07T05:00:56.042429Z",
     "iopub.status.busy": "2023-10-07T05:00:56.041862Z",
     "iopub.status.idle": "2023-10-07T05:02:13.873801Z",
     "shell.execute_reply": "2023-10-07T05:02:13.872807Z"
    },
    "papermill": {
     "duration": 77.841216,
     "end_time": "2023-10-07T05:02:13.876336",
     "exception": false,
     "start_time": "2023-10-07T05:00:56.035120",
     "status": "completed"
    },
    "tags": []
   },
   "outputs": [],
   "source": [
    "for i, file in enumerate(os.listdir('./txts (YOLO)')):\n",
    "    f = open('./txts (YOLO)/'+file, \"r\")\n",
    "    txt = f.read().split()\n",
    "    for j in range(5):\n",
    "        x = open('/kaggle/working/txts4C/'+file, \"w\")\n",
    "        x.write(f\"{dic[int(txt[0])]} {txt[1]} {txt[2]} {txt[3]} {txt[4]}\")\n",
    "        x.close()"
   ]
  },
  {
   "cell_type": "code",
   "execution_count": null,
   "id": "64d4f762",
   "metadata": {
    "execution": {
     "iopub.execute_input": "2023-10-07T03:35:09.869551Z",
     "iopub.status.busy": "2023-10-07T03:35:09.869122Z",
     "iopub.status.idle": "2023-10-07T03:35:34.555637Z",
     "shell.execute_reply": "2023-10-07T03:35:34.554131Z",
     "shell.execute_reply.started": "2023-10-07T03:35:09.869519Z"
    },
    "papermill": {
     "duration": 0.004539,
     "end_time": "2023-10-07T05:02:13.886276",
     "exception": false,
     "start_time": "2023-10-07T05:02:13.881737",
     "status": "completed"
    },
    "tags": []
   },
   "outputs": [],
   "source": []
  },
  {
   "cell_type": "code",
   "execution_count": null,
   "id": "8da0fe13",
   "metadata": {
    "execution": {
     "iopub.execute_input": "2023-10-07T04:37:43.279027Z",
     "iopub.status.busy": "2023-10-07T04:37:43.278571Z",
     "iopub.status.idle": "2023-10-07T04:38:08.435263Z",
     "shell.execute_reply": "2023-10-07T04:38:08.433520Z",
     "shell.execute_reply.started": "2023-10-07T04:37:43.278991Z"
    },
    "papermill": {
     "duration": 0.004399,
     "end_time": "2023-10-07T05:02:13.895311",
     "exception": false,
     "start_time": "2023-10-07T05:02:13.890912",
     "status": "completed"
    },
    "tags": []
   },
   "outputs": [],
   "source": []
  },
  {
   "cell_type": "code",
   "execution_count": null,
   "id": "997dd894",
   "metadata": {
    "papermill": {
     "duration": 0.004943,
     "end_time": "2023-10-07T05:02:13.904839",
     "exception": false,
     "start_time": "2023-10-07T05:02:13.899896",
     "status": "completed"
    },
    "tags": []
   },
   "outputs": [],
   "source": []
  },
  {
   "cell_type": "code",
   "execution_count": 10,
   "id": "3d53171b",
   "metadata": {
    "execution": {
     "iopub.execute_input": "2023-10-07T05:02:13.918383Z",
     "iopub.status.busy": "2023-10-07T05:02:13.917593Z",
     "iopub.status.idle": "2023-10-07T05:02:41.794218Z",
     "shell.execute_reply": "2023-10-07T05:02:41.792916Z"
    },
    "papermill": {
     "duration": 27.885296,
     "end_time": "2023-10-07T05:02:41.796750",
     "exception": false,
     "start_time": "2023-10-07T05:02:13.911454",
     "status": "completed"
    },
    "tags": []
   },
   "outputs": [
    {
     "name": "stdout",
     "output_type": "stream",
     "text": [
      "fatal: could not create work tree dir 'yolov5': Read-only file system\r\n",
      "[Errno 2] No such file or directory: 'yolov5'\n",
      "/kaggle/input/traffic-signs-dataset-mapillary-and-dfg\n",
      "\u001b[31mERROR: Could not open requirements file: [Errno 2] No such file or directory: 'requirements.txt'\u001b[0m\u001b[31m\r\n",
      "\u001b[0mNote: you may need to restart the kernel to use updated packages.\n"
     ]
    }
   ],
   "source": [
    "!git clone https://github.com/ultralytics/yolov5  # clone\n",
    "%cd yolov5\n",
    "%pip install -qr requirements.txt  # install\n",
    "\n",
    "\n"
   ]
  },
  {
   "cell_type": "code",
   "execution_count": null,
   "id": "53a3ee88",
   "metadata": {
    "execution": {
     "iopub.execute_input": "2023-10-07T03:41:18.120348Z",
     "iopub.status.busy": "2023-10-07T03:41:18.119604Z",
     "iopub.status.idle": "2023-10-07T03:42:09.274078Z",
     "shell.execute_reply": "2023-10-07T03:42:09.272947Z",
     "shell.execute_reply.started": "2023-10-07T03:41:18.120310Z"
    },
    "papermill": {
     "duration": 0.004844,
     "end_time": "2023-10-07T05:02:41.806947",
     "exception": false,
     "start_time": "2023-10-07T05:02:41.802103",
     "status": "completed"
    },
    "tags": []
   },
   "outputs": [],
   "source": []
  },
  {
   "cell_type": "code",
   "execution_count": null,
   "id": "2a6c7755",
   "metadata": {
    "execution": {
     "iopub.execute_input": "2023-10-07T03:44:33.232044Z",
     "iopub.status.busy": "2023-10-07T03:44:33.231616Z",
     "iopub.status.idle": "2023-10-07T03:44:34.348788Z",
     "shell.execute_reply": "2023-10-07T03:44:34.347203Z",
     "shell.execute_reply.started": "2023-10-07T03:44:33.232015Z"
    },
    "papermill": {
     "duration": 0.004799,
     "end_time": "2023-10-07T05:02:41.817435",
     "exception": false,
     "start_time": "2023-10-07T05:02:41.812636",
     "status": "completed"
    },
    "tags": []
   },
   "outputs": [],
   "source": []
  },
  {
   "cell_type": "code",
   "execution_count": null,
   "id": "de56f3d2",
   "metadata": {
    "papermill": {
     "duration": 0.004903,
     "end_time": "2023-10-07T05:02:41.827302",
     "exception": false,
     "start_time": "2023-10-07T05:02:41.822399",
     "status": "completed"
    },
    "tags": []
   },
   "outputs": [],
   "source": []
  }
 ],
 "metadata": {
  "kernelspec": {
   "display_name": "Python 3",
   "language": "python",
   "name": "python3"
  },
  "language_info": {
   "codemirror_mode": {
    "name": "ipython",
    "version": 3
   },
   "file_extension": ".py",
   "mimetype": "text/x-python",
   "name": "python",
   "nbconvert_exporter": "python",
   "pygments_lexer": "ipython3",
   "version": "3.10.12"
  },
  "papermill": {
   "default_parameters": {},
   "duration": 113.074198,
   "end_time": "2023-10-07T05:02:42.353580",
   "environment_variables": {},
   "exception": null,
   "input_path": "__notebook__.ipynb",
   "output_path": "__notebook__.ipynb",
   "parameters": {},
   "start_time": "2023-10-07T05:00:49.279382",
   "version": "2.4.0"
  }
 },
 "nbformat": 4,
 "nbformat_minor": 5
}
